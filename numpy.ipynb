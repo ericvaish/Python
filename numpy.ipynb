{
 "cells": [
  {
   "cell_type": "markdown",
   "metadata": {},
   "source": [
    "# NUMPY"
   ]
  },
  {
   "cell_type": "markdown",
   "metadata": {},
   "source": [
    "### 1. Numpy Array\n",
    "Grid of values. All elementrs must be same type"
   ]
  },
  {
   "cell_type": "code",
   "execution_count": 6,
   "metadata": {},
   "outputs": [
    {
     "name": "stdout",
     "output_type": "stream",
     "text": [
      "2\n",
      "7.0\n"
     ]
    }
   ],
   "source": [
    "import numpy\n",
    "\n",
    "# numpy.array - Convert List into Numpy Array\n",
    "\n",
    "a = numpy.array([1,2,3,4,5])\n",
    "print(a[1])\n",
    "\n",
    "b = numpy.array([6,7,8,9,10], float)\n",
    "print(b[1])"
   ]
  },
  {
   "cell_type": "markdown",
   "metadata": {},
   "source": [
    "### 2. Shape of an Array\n",
    "Shape tool gives a tuple of array dimension and can be used to change the dimension of an array"
   ]
  },
  {
   "cell_type": "markdown",
   "metadata": {},
   "source": [
    "#### 2.1 Using shape to get array dimensions"
   ]
  },
  {
   "cell_type": "code",
   "execution_count": 11,
   "metadata": {},
   "outputs": [
    {
     "name": "stdout",
     "output_type": "stream",
     "text": [
      "Shape of one_dimension_array : (5,)\n",
      "Shape of two_dimension_array : (2, 3)\n"
     ]
    }
   ],
   "source": [
    "import numpy as np\n",
    "\n",
    "one_dimension_array = np.array([1,2,3,4,5])\n",
    "print(f\"Shape of one_dimension_array : {one_dimension_array.shape}\")\n",
    "\n",
    "two_dimension_array = np.array([[1,2,3],[4,5,6]])\n",
    "print(f\"Shape of two_dimension_array : {two_dimension_array.shape}\")\n"
   ]
  },
  {
   "cell_type": "markdown",
   "metadata": {},
   "source": [
    "#### 2.2 Using shape to change Dimension"
   ]
  },
  {
   "cell_type": "code",
   "execution_count": 21,
   "metadata": {},
   "outputs": [
    {
     "name": "stdout",
     "output_type": "stream",
     "text": [
      "[1 2 3 4 5]\n",
      "Original Shape of one_dimension_array : (5,)\n",
      "\n",
      "\n",
      "[[1]\n",
      " [2]\n",
      " [3]\n",
      " [4]\n",
      " [5]]\n",
      "New Shape of one_dimension_array : (5, 1)\n"
     ]
    }
   ],
   "source": [
    "import numpy as np\n",
    "\n",
    "one_dimension_array = np.array([1,2,3,4,5])\n",
    "print(one_dimension_array)\n",
    "print(f\"Original Shape of one_dimension_array : {one_dimension_array.shape}\\n\\n\")\n",
    "# This converts this 1D 5 element array into 5D 1 element array\n",
    "one_dimension_array.shape = (5,1)\n",
    "print(one_dimension_array)\n",
    "print(f\"New Shape of one_dimension_array : {one_dimension_array.shape}\")\n"
   ]
  },
  {
   "cell_type": "markdown",
   "metadata": {},
   "source": [
    "#### 2.3 Reshape Array"
   ]
  },
  {
   "cell_type": "code",
   "execution_count": null,
   "metadata": {},
   "outputs": [],
   "source": []
  }
 ],
 "metadata": {
  "kernelspec": {
   "display_name": ".venv",
   "language": "python",
   "name": "python3"
  },
  "language_info": {
   "codemirror_mode": {
    "name": "ipython",
    "version": 3
   },
   "file_extension": ".py",
   "mimetype": "text/x-python",
   "name": "python",
   "nbconvert_exporter": "python",
   "pygments_lexer": "ipython3",
   "version": "3.13.0"
  }
 },
 "nbformat": 4,
 "nbformat_minor": 2
}
